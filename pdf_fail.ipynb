{
 "cells": [
  {
   "cell_type": "code",
   "execution_count": 5,
   "metadata": {},
   "outputs": [],
   "source": [
    "import os\n",
    "import pdfplumber\n",
    "import pandas as pd\n",
    "\n",
    "def extract_data_from_pdf(pdf_path):\n",
    "    with pdfplumber.open(pdf_path) as pdf:\n",
    "        text = ''\n",
    "        for page in pdf.pages:\n",
    "            text += page.extract_text()  # Extract text from each page\n",
    "        return text\n",
    "\n",
    "def process_all_pdfs(directory_path):\n",
    "    all_data = []\n",
    "    for pdf_file in os.listdir(directory_path):\n",
    "        if pdf_file.endswith('.pdf'):\n",
    "            pdf_path = os.path.join(directory_path, pdf_file)\n",
    "            pdf_data = extract_data_from_pdf(pdf_path)\n",
    "            all_data.append(pdf_data)\n",
    "    return all_data\n",
    "\n",
    "def create_spreadsheet(data, file_name):\n",
    "    df = pd.DataFrame(data)\n",
    "    df.to_csv(file_name, index=False)  # Save as CSV\n",
    "\n",
    "# Example usage\n",
    "directory_path = 'Test'\n",
    "all_data = process_all_pdfs(directory_path)\n",
    "create_spreadsheet(all_data, 'output.csv')\n"
   ]
  },
  {
   "cell_type": "code",
   "execution_count": 6,
   "metadata": {},
   "outputs": [],
   "source": [
    "\n",
    "import re\n",
    "\n",
    "def extract_data_from_pdf(pdf_path):\n",
    "    with pdfplumber.open(pdf_path) as pdf:\n",
    "        text = ''\n",
    "        for page in pdf.pages:\n",
    "            text += page.extract_text()\n",
    "\n",
    "        # Use regular expressions to extract specific data\n",
    "        date = re.search(r'Date: (\\d{2}/\\d{2}/\\d{4})', text)\n",
    "        invoice_number = re.search(r'Invoice Number: (\\d+)', text)\n",
    "        bill_to = re.search(r'Bill To: ([\\w\\s]+)', text)\n",
    "        activity = re.search(r'Activity: ([\\w\\s]+)', text)\n",
    "        total = re.search(r'Total: (\\d+\\.\\d{2})', text)\n",
    "        balance_due = re.search(r'Balance Due: (\\d+\\.\\d{2})', text)\n",
    "\n",
    "        # Return the extracted data\n",
    "        return {\n",
    "            'Date': date.group(1) if date else '',\n",
    "            'Invoice Number': invoice_number.group(1) if invoice_number else '',\n",
    "            'Bill To': bill_to.group(1) if bill_to else '',\n",
    "            'Activity': activity.group(1) if activity else '',\n",
    "            'Total': total.group(1) if total else '',\n",
    "            'Balance Due': balance_due.group(1) if balance_due else '',\n",
    "        }"
   ]
  },
  {
   "cell_type": "code",
   "execution_count": 7,
   "metadata": {},
   "outputs": [
    {
     "name": "stdout",
     "output_type": "stream",
     "text": [
      "{'Date': '', 'Invoice Number': '', 'Bill To': '', 'Activity': '', 'Total': '', 'Balance Due': ''}\n"
     ]
    }
   ],
   "source": [
    "print(extract_data_from_pdf('Test/Cogswell BALANCE Invoice_1248.pdf'))"
   ]
  },
  {
   "cell_type": "code",
   "execution_count": null,
   "metadata": {},
   "outputs": [],
   "source": [
    "# aosdh"
   ]
  }
 ],
 "metadata": {
  "kernelspec": {
   "display_name": ".cenv",
   "language": "python",
   "name": "python3"
  },
  "language_info": {
   "codemirror_mode": {
    "name": "ipython",
    "version": 3
   },
   "file_extension": ".py",
   "mimetype": "text/x-python",
   "name": "python",
   "nbconvert_exporter": "python",
   "pygments_lexer": "ipython3",
   "version": "3.11.0"
  }
 },
 "nbformat": 4,
 "nbformat_minor": 2
}
