{
 "cells": [
  {
   "cell_type": "code",
   "execution_count": null,
   "metadata": {},
   "outputs": [],
   "source": [
    "import PyPDF2\n",
    "import re\n",
    "\n",
    "def extract_invoice_data(pdf_path):\n",
    "    with open(pdf_path, 'rb') as file:\n",
    "        reader = PyPDF2.PdfReader(file)\n",
    "        page = reader.pages[0]\n",
    "        text = page.extract_text()\n",
    "\n",
    "        # Regular expressions to match each piece of data\n",
    "        date_re = r'DATE\\n(\\d{2}/\\d{2}/\\d{4})'\n",
    "        invoice_number_re = r'INVOICE #\\n(\\d+)'\n",
    "        bill_to_re = r'BILL TO\\n\\n(.+?)(?:\\n\\d{3}-\\d{3}-\\d{4})'\n",
    "        activity_re = r'(\\d{3}-\\d{3}-\\d{4})\\n(.+?)Amount'\n",
    "        total_re = r'TOTAL\\n\\n\\$(\\d+\\.\\d{2})'\n",
    "        balance_due_re = r'BALANCE DUE \\n\\n\\$(\\d+\\.\\d{2})'\n",
    "\n",
    "        # Extracting data\n",
    "        date = re.search(date_re, text).group(1)\n",
    "        invoice_number = re.search(invoice_number_re, text).group(1)\n",
    "        bill_to = re.search(bill_to_re, text, re.DOTALL).group(1).strip()\n",
    "        activity = re.search(activity_re, text, re.DOTALL).group(2).strip()\n",
    "        total = re.search(total_re, text).group(1)\n",
    "        balance_due = re.search(balance_due_re, text).group(1)\n",
    "\n",
    "        return {\n",
    "            'Date': date,\n",
    "            'Invoice Number': invoice_number,\n",
    "            'Bill To': bill_to,\n",
    "            'Activity': activity,\n",
    "            'Total': total,\n",
    "            'Balance Due': balance_due\n",
    "        }\n",
    "\n",
    "# Example usage\n",
    "pdf_path ='C:\\Programming\\CogswellProject\\Test\\Cogswell BALANCE Invoice_1248.pdf'  # Replace with your PDF file path\n",
    "data = extract_invoice_data(pdf_path)\n",
    "print(data)\n",
    "\n",
    "# 'C:\\Programming\\CogswellProject\\Test\\Cogswell BALANCE Invoice_1248.pdf"
   ]
  },
  {
   "cell_type": "code",
   "execution_count": 8,
   "metadata": {},
   "outputs": [
    {
     "name": "stdout",
     "output_type": "stream",
     "text": [
      "{'Date': '06/17/2009', 'Invoice Number': '1248', 'Bill To': None, 'Activity': 'clintdavis68@gmail.com\\nENCLOSED AMOUNT DUE\\n$2,913.75\\n\"Please detach top portion and return with your payment.\"\\nService Activity Quantity Rate', 'Total': None, 'Balance Due': None}\n"
     ]
    }
   ],
   "source": [
    "import PyPDF2\n",
    "import pytesseract\n",
    "from PIL import Image\n",
    "import io\n",
    "import re\n",
    "\n",
    "# Function to extract text using PyPDF2\n",
    "def extract_text_pdf2(reader):\n",
    "    text = ''\n",
    "    for page in reader.pages:\n",
    "        text += page.extract_text() or ''\n",
    "    return text\n",
    "\n",
    "# Function to perform OCR using pytesseract\n",
    "def perform_ocr(reader):\n",
    "    text = ''\n",
    "    for page_num in range(len(reader.pages)):\n",
    "        page = reader.pages[page_num]\n",
    "        if '/XObject' in page['/Resources']:\n",
    "            xObject = page['/Resources']['/XObject'].get_object()\n",
    "\n",
    "            for obj in xObject:\n",
    "                if xObject[obj]['/Subtype'] == '/Image':\n",
    "                    size = (xObject[obj]['/Width'], xObject[obj]['/Height'])\n",
    "                    data = xObject[obj].get_data()\n",
    "                    image = Image.open(io.BytesIO(data))\n",
    "                    text += pytesseract.image_to_string(image, lang='eng')\n",
    "    return text\n",
    "\n",
    "# Main function to extract data from PDF\n",
    "def extract_invoice_data(pdf_path):\n",
    "    with open(pdf_path, 'rb') as file:\n",
    "        reader = PyPDF2.PdfReader(file)\n",
    "        text = extract_text_pdf2(reader)\n",
    "\n",
    "        # If text extraction fails, try OCR\n",
    "        if not text.strip():\n",
    "            text = perform_ocr(reader)\n",
    "\n",
    "        # Define regular expressions for each field\n",
    "        date_re = r'DATE\\s+(\\d{2}/\\d{2}/\\d{4})'\n",
    "        invoice_number_re = r'INVOICE #\\s+(\\d+)'\n",
    "        bill_to_re = r'BILL TO\\n\\s+(.+?)\\n\\s+\\d{3}-\\d{3}-\\d{4}'\n",
    "        activity_re = r'(\\d{3}-\\d{3}-\\d{4})\\s+([\\s\\S]+?)\\s+Amount'\n",
    "        total_re = r'TOTAL\\s+\\$\\s+(\\d+\\.\\d{2})'\n",
    "        balance_due_re = r'BALANCE DUE\\s+\\$\\s+(\\d+\\.\\d{2})'\n",
    "\n",
    "        # Extract data using regular expressions\n",
    "        extracted_data = {\n",
    "            'Date': re.search(date_re, text).group(1) if re.search(date_re, text) else None,\n",
    "            'Invoice Number': re.search(invoice_number_re, text).group(1) if re.search(invoice_number_re, text) else None,\n",
    "            'Bill To': re.search(bill_to_re, text).group(1).strip() if re.search(bill_to_re, text) else None,\n",
    "            'Activity': re.search(activity_re, text).group(2).strip() if re.search(activity_re, text) else None,\n",
    "            'Total': re.search(total_re, text).group(1) if re.search(total_re, text) else None,\n",
    "            'Balance Due': re.search(balance_due_re, text).group(1) if re.search(balance_due_re, text) else None\n",
    "        }\n",
    "\n",
    "    return extracted_data\n",
    "\n",
    "# Example usage\n",
    "pdf_path = 'C:\\Programming\\CogswellProject\\Test\\Cogswell BALANCE Invoice_1248.pdf'  # Replace with your PDF file path\n",
    "data = extract_invoice_data(pdf_path)\n",
    "print(data)\n"
   ]
  },
  {
   "cell_type": "code",
   "execution_count": 13,
   "metadata": {},
   "outputs": [
    {
     "name": "stdout",
     "output_type": "stream",
     "text": [
      "No metadata found in the PDF.\n"
     ]
    }
   ],
   "source": [
    "import PyPDF2\n",
    "\n",
    "def extract_pdf_metadata(pdf_path):\n",
    "    with open(pdf_path, 'rb') as file:\n",
    "        reader = PyPDF2.PdfReader(file)\n",
    "        metadata = reader.metadata\n",
    "        return metadata\n",
    "\n",
    "\n",
    "pdf_path = 'C:\\Programming\\CogswellProject\\Test\\Cogswell BALANCE Invoice_1248.pdf' # Replace with your PDF file path\n",
    "metadata = extract_pdf_metadata(pdf_path)\n",
    "\n",
    "if metadata:\n",
    "    print(\"PDF Metadata:\")\n",
    "    for key, value in metadata.items():\n",
    "        print(f\"{key}: {value}\")\n",
    "else:\n",
    "    print(\"No metadata found in the PDF.\")\n"
   ]
  },
  {
   "cell_type": "code",
   "execution_count": 8,
   "metadata": {},
   "outputs": [],
   "source": [
    "import os\n",
    "import PyPDF2\n",
    "\n",
    "from PIL import Image\n",
    "import io\n",
    "import re\n",
    "\n",
    "# Function to extract text using PyPDF2\n",
    "def extract_text_pdf2(reader):\n",
    "    text = ''\n",
    "    for page in reader.pages:\n",
    "        text += page.extract_text() or ''\n",
    "    return text\n",
    "\n",
    "\n",
    "\n",
    "# Function to extract date from a single PDF\n",
    "def extract_date(pdf_path):\n",
    "    with open(pdf_path, 'rb') as file:\n",
    "        reader = PyPDF2.PdfReader(file)\n",
    "        text = extract_text_pdf2(reader)\n",
    "\n",
    "        \n",
    "\n",
    "        # Define regular expression for the date\n",
    "        date_re = r'DATE\\s+(\\d{2}/\\d{2}/\\d{4})'\n",
    "\n",
    "        # Extract date using regular expression\n",
    "        date = re.search(date_re, text).group(1) if re.search(date_re, text) else None\n",
    "\n",
    "    return date\n",
    "\n",
    "        # Define regular expressions for each field\n",
    "        # date_re = r'DATE\\s+(\\d{2}/\\d{2}/\\d{4})'\n",
    "        # invoice_number_re = r'INVOICE #\\s+(\\d+)'\n",
    "        # bill_to_re = r'BILL TO\\n\\s+(.+?)\\n\\s+\\d{3}-\\d{3}-\\d{4}'\n",
    "        # activity_re = r'(\\d{3}-\\d{3}-\\d{4})\\s+([\\s\\S]+?)\\s+Amount'\n",
    "        # total_re = r'TOTAL\\s+\\$\\s+(\\d+\\.\\d{2})'\n",
    "        # balance_due_re = r'BALANCE DUE\\s+\\$\\s+(\\d+\\.\\d{2})'\n",
    "\n",
    "        # Extract data using regular expressions\n",
    "    #     extracted_data = {\n",
    "    #         'Date': re.search(date_re, text).group(1) if re.search(date_re, text) else None,\n",
    "    #         'Invoice Number': re.search(invoice_number_re, text).group(1) if re.search(invoice_number_re, text) else None,\n",
    "    #         'Bill To': re.search(bill_to_re, text).group(1).strip() if re.search(bill_to_re, text) else None,\n",
    "    #         'Activity': re.search(activity_re, text).group(2).strip() if re.search(activity_re, text) else None,\n",
    "    #         'Total': re.search(total_re, text).group(1) if re.search(total_re, text) else None,\n",
    "    #         'Balance Due': re.search(balance_due_re, text).group(1) if re.search(balance_due_re, text) else None\n",
    "    #     }\n",
    "\n",
    "    # return extracted_data\n",
    "\n",
    "def extract_dates_from_folder(folder_path):\n",
    "    dates = []\n",
    "    for filename in os.listdir(folder_path):\n",
    "        if filename.lower().endswith('.pdf'):\n",
    "            pdf_path = os.path.join(folder_path, filename)\n",
    "            date = extract_date(pdf_path)\n",
    "            if date:\n",
    "                dates.append((filename, date))\n",
    "\n",
    "    return dates\n",
    "\n",
    "\n",
    "# SOME SHIT\n"
   ]
  },
  {
   "cell_type": "code",
   "execution_count": 9,
   "metadata": {},
   "outputs": [
    {
     "name": "stdout",
     "output_type": "stream",
     "text": [
      "[('Balance Invoice.pdf', '03/01/2006'), ('Balance Invoice_1018_from_Cogswell_Creations.pdf', '02/28/2006'), ('Cogswell  Balance Invoice_1035.pdf', '07/11/2006'), ('Cogswell  BALANCE Invoice_1075.pdf', '03/19/2007'), ('Cogswell  BALANCE Invoice_1408.pdf', '05/11/2011'), ('Cogswell BALANCE DUE Invoice_1058.pdf', '11/02/2006'), ('Cogswell BALANCE DUE Invoice_1065.pdf', '02/07/2007'), ('Cogswell BALANCE DUE Invoice_1076.pdf', '03/21/2007'), ('Cogswell BALANCE DUE Invoice_1078.pdf', '03/26/2007'), ('Cogswell BALANCE DUE Invoice_1079.pdf', '04/01/2007'), ('Cogswell BALANCE DUE Invoice_1267.pdf', '08/21/2009'), ('Cogswell BALANCE DUE Invoice_1322.pdf', '07/07/2010'), ('Cogswell BALANCE DUE Invoice_1441.pdf', '10/14/2011'), ('Cogswell Balance Invoice 1023.pdf', '05/04/2006'), ('Cogswell Balance Invoice 1024.pdf', '05/04/2006'), ('Cogswell Balance Invoice 1026.pdf', '09/05/2006'), ('Cogswell Balance Invoice 1027.pdf', '06/02/2006'), ('Cogswell Balance Invoice 1033.pdf', '07/07/2006'), ('Cogswell Balance Invoice_1017.pdf', '02/17/2006'), ('Cogswell Balance Invoice_1019.pdf', '03/01/2006'), ('Cogswell Balance Invoice_1022.pdf', '03/23/2006'), ('Cogswell Balance Invoice_1029.pdf', '06/22/2006'), ('Cogswell BALANCE Invoice_1029b.pdf', '11/08/2007'), ('Cogswell Balance Invoice_1034.pdf', '07/11/2006'), ('Cogswell Balance Invoice_1036.pdf', '07/11/2006'), ('Cogswell BALANCE Invoice_1037.pdf', '07/16/2006'), ('Cogswell Balance Invoice_1038.pdf', '07/17/2006'), ('Cogswell Balance Invoice_1039.pdf', '07/19/2006'), ('Cogswell Balance Invoice_1041.pdf', '08/02/2006'), ('Cogswell Balance Invoice_1045.pdf', '08/17/2006'), ('Cogswell Balance Invoice_1046.pdf', '08/26/2006'), ('Cogswell Balance Invoice_1051.pdf', '10/10/2006'), ('Cogswell Balance Invoice_1052.pdf', '10/11/2006'), ('Cogswell Balance Invoice_1055.pdf', '10/18/2006'), ('Cogswell Balance Invoice_1057.pdf', '10/30/2006'), ('Cogswell Balance Invoice_1059.pdf', '11/06/2006'), ('Cogswell BALANCE Invoice_1061.pdf', '01/17/2007'), ('Cogswell BALANCE Invoice_1066.pdf', '02/08/2007'), ('Cogswell BALANCE Invoice_1067.pdf', '02/10/2007'), ('Cogswell BALANCE Invoice_1068.pdf', '02/13/2007'), ('Cogswell BALANCE Invoice_1069.pdf', '02/26/2007'), ('Cogswell BALANCE Invoice_1071.pdf', '07/17/2007'), ('Cogswell BALANCE Invoice_1072.pdf', '03/04/2007'), ('Cogswell BALANCE Invoice_1073.pdf', '03/09/2007'), ('Cogswell BALANCE Invoice_1074.pdf', '03/19/2007'), ('Cogswell BALANCE Invoice_1077.pdf', '03/26/2007'), ('Cogswell BALANCE Invoice_1080.pdf', '04/01/2007'), ('Cogswell Balance Invoice_1081.pdf', '04/03/2007'), ('Cogswell Balance Invoice_1084.pdf', '05/10/2007'), ('Cogswell BALANCE Invoice_1086.pdf', '05/22/2007'), ('Cogswell BALANCE Invoice_1086v2.pdf', '05/22/2007'), ('Cogswell BALANCE Invoice_1087.pdf', '05/24/2007'), ('Cogswell BALANCE Invoice_1088.pdf', '05/30/2007'), ('Cogswell BALANCE Invoice_1090.pdf', '06/01/2007'), ('Cogswell BALANCE Invoice_1091.pdf', '06/01/2007'), ('Cogswell BALANCE Invoice_1092.pdf', '06/11/2007'), ('Cogswell BALANCE Invoice_1093b.pdf', '06/15/2007'), ('Cogswell BALANCE Invoice_1094b.pdf', '10/11/2007'), ('Cogswell BALANCE Invoice_1095.pdf', '06/28/2007'), ('Cogswell BALANCE Invoice_1097.pdf', '07/02/2007'), ('Cogswell BALANCE Invoice_1101.pdf', '07/10/2007'), ('Cogswell BALANCE Invoice_1102.pdf', '07/10/2007'), ('Cogswell BALANCE Invoice_1103b.pdf', '10/11/2007'), ('Cogswell BALANCE Invoice_1103c.pdf', '05/16/2007'), ('Cogswell BALANCE Invoice_1104.pdf', '07/26/2007'), ('Cogswell BALANCE Invoice_1106b.pdf', '10/16/2007'), ('Cogswell BALANCE Invoice_1107b.pdf', '10/11/2007'), ('Cogswell BALANCE Invoice_1108b.pdf', '08/16/2007'), ('Cogswell BALANCE Invoice_1109.pdf', '08/16/2007'), ('Cogswell BALANCE Invoice_1116b.pdf', '09/13/2007'), ('Cogswell BALANCE Invoice_1118b.pdf', '11/13/2007'), ('Cogswell BALANCE Invoice_1124b.pdf', '11/13/2007'), ('Cogswell BALANCE Invoice_1126b.pdf', '11/05/2007'), ('Cogswell BALANCE Invoice_1127b.pdf', '11/07/2007'), ('Cogswell BALANCE Invoice_1130b.pdf', '12/14/2007'), ('Cogswell BALANCE Invoice_1131b.pdf', '02/06/2007'), ('Cogswell BALANCE Invoice_1134b.pdf', '02/06/2008'), ('Cogswell BALANCE Invoice_1135b.pdf', '02/27/2008'), ('Cogswell BALANCE Invoice_1142b.pdf', '02/28/2008'), ('Cogswell BALANCE Invoice_1145b.pdf', '03/19/2008'), ('Cogswell BALANCE Invoice_1148b.pdf', '04/10/2008'), ('Cogswell BALANCE Invoice_1151B.pdf', '03/30/2008'), ('Cogswell BALANCE Invoice_1152b.pdf', '04/01/2008'), ('Cogswell BALANCE Invoice_1154B.pdf', '05/06/2008'), ('Cogswell BALANCE Invoice_1157b.pdf', '10/21/2008'), ('Cogswell BALANCE Invoice_1158b.pdf', '04/22/2008'), ('Cogswell BALANCE Invoice_1161b.pdf', '05/14/2008'), ('Cogswell BALANCE Invoice_1172b.pdf', '06/17/2008'), ('Cogswell BALANCE Invoice_1178b.pdf', '07/21/2008'), ('Cogswell BALANCE Invoice_1180.pdf', '07/22/2008'), ('Cogswell BALANCE Invoice_1181B.pdf', '07/23/2008'), ('Cogswell BALANCE Invoice_1182b.pdf', '07/24/2008'), ('Cogswell BALANCE Invoice_1185b.pdf', '07/29/2008'), ('Cogswell BALANCE Invoice_1186b.pdf', '07/30/2008'), ('Cogswell BALANCE Invoice_1188b.pdf', '08/08/2008'), ('Cogswell BALANCE Invoice_1197.pdf', '08/20/2008'), ('Cogswell BALANCE Invoice_1198.pdf', '08/20/2008'), ('Cogswell BALANCE Invoice_1199b.pdf', '08/20/2008'), ('Cogswell BALANCE Invoice_1204B.pdf', '09/23/2008'), ('Cogswell BALANCE Invoice_1205.pdf', '09/23/2008'), ('Cogswell BALANCE Invoice_1208.pdf', '10/09/2008'), ('Cogswell BALANCE Invoice_1229.pdf', '03/03/2009'), ('Cogswell BALANCE Invoice_1231.pdf', '03/17/2009'), ('Cogswell BALANCE Invoice_1235.pdf', '04/08/2009'), ('Cogswell BALANCE Invoice_1236.pdf', '04/13/2009'), ('Cogswell BALANCE Invoice_1243.pdf', '08/26/2009'), ('Cogswell BALANCE Invoice_1245.pdf', '06/10/2009'), ('Cogswell BALANCE Invoice_1247.pdf', '06/12/2009'), ('Cogswell BALANCE Invoice_1248.pdf', '06/17/2009'), ('Cogswell BALANCE Invoice_1258.pdf', '07/28/2009'), ('Cogswell BALANCE Invoice_1259.pdf', '07/30/2009'), ('Cogswell BALANCE Invoice_1265.pdf', '08/12/2009'), ('Cogswell BALANCE Invoice_1265a.pdf', '09/29/2009'), ('Cogswell BALANCE Invoice_1265b.pdf', '09/29/2009'), ('Cogswell BALANCE Invoice_1266.pdf', '08/13/2009'), ('Cogswell BALANCE Invoice_1283.pdf', '10/21/2009'), ('Cogswell BALANCE Invoice_1299.pdf', '05/25/2010'), ('Cogswell BALANCE Invoice_1300.pdf', '02/17/2010'), ('Cogswell BALANCE Invoice_1302.pdf', '03/16/2010'), ('Cogswell BALANCE Invoice_1308.pdf', '04/15/2010'), ('Cogswell BALANCE Invoice_1309.pdf', '04/19/2010'), ('Cogswell BALANCE Invoice_1312.pdf', '04/20/2010'), ('Cogswell BALANCE Invoice_1314.pdf', '05/03/2010'), ('Cogswell BALANCE Invoice_1318.pdf', '05/26/2010'), ('Cogswell BALANCE Invoice_1319.pdf', '07/05/2010'), ('Cogswell BALANCE Invoice_1320.pdf', '06/23/2010'), ('Cogswell BALANCE Invoice_1334.pdf', '08/13/2010'), ('Cogswell BALANCE Invoice_1337.pdf', '09/24/2010'), ('Cogswell BALANCE Invoice_1348.pdf', '09/10/2010'), ('Cogswell BALANCE Invoice_1371.pdf', '02/09/2011'), ('Cogswell BALANCE Invoice_1390.pdf', '02/28/2011'), ('Cogswell BALANCE Invoice_1391.pdf', '03/03/2011'), ('Cogswell BALANCE Invoice_1392.pdf', '03/08/2011'), ('Cogswell BALANCE Invoice_1406.pdf', '05/03/2011'), ('Cogswell BALANCE Invoice_1407.pdf', '05/10/2011'), ('Cogswell BALANCE Invoice_1410.pdf', '05/16/2011'), ('Cogswell BALANCE Invoice_1425.pdf', '06/29/2011'), ('Cogswell Creations Invoice 1025.pdf', '05/24/2006'), ('Cogswell Creations Invoice 1026.pdf', '05/25/2006'), ('Cogswell Creations Invoice_1113.pdf', '02/21/2008'), ('Cogswell Fogger Invoice_1040.pdf', '07/27/2006'), ('Cogswell Fogger Invoice_1050.pdf', '09/28/2006'), ('Cogswell FOGGER Invoice_1189.pdf', '08/11/2008'), ('Cogswell FOGGER Invoice_1196.pdf', '08/19/2008'), ('Cogswell Fogger Invoice_1335.pdf', '08/16/2010'), ('Cogswell Invoice 1023.pdf', '05/04/2006'), ('Cogswell Invoice 1024.pdf', '05/04/2006'), ('Cogswell Invoice 1027.pdf', '06/02/2006'), ('Cogswell Invoice 1027_060806.pdf', '06/02/2006'), ('Cogswell Invoice 1032.pdf', '07/07/2006'), ('Cogswell Invoice 1033.pdf', '07/07/2006'), ('Cogswell Invoice.pdf', '06/02/2006'), ('Cogswell Invoice_.pdf', '10/22/2008'), ('Cogswell Invoice_1028.pdf', '06/09/2006'), ('Cogswell Invoice_1029.pdf', '06/22/2006'), ('Cogswell Invoice_1029a.pdf', '11/08/2007'), ('Cogswell Invoice_1030.pdf', '06/23/2006'), ('Cogswell Invoice_1031.pdf', '06/29/2006'), ('Cogswell Invoice_1034.pdf', '07/11/2006'), ('Cogswell Invoice_1035.pdf', '07/11/2006'), ('Cogswell Invoice_1036.pdf', '07/11/2006'), ('Cogswell Invoice_1037.pdf', '07/16/2006'), ('Cogswell Invoice_1038.pdf', '07/17/2006'), ('Cogswell Invoice_1039.pdf', '07/19/2006'), ('Cogswell Invoice_1041.pdf', '08/02/2006'), ('Cogswell Invoice_1042.pdf', '08/04/2006'), ('Cogswell Invoice_1043.pdf', '08/07/2006'), ('Cogswell Invoice_1044 10-18-06.pdf', '08/10/2006'), ('Cogswell Invoice_1044.pdf', '08/10/2006'), ('Cogswell Invoice_1045.pdf', '08/17/2006'), ('Cogswell Invoice_1046.pdf', '08/26/2006'), ('Cogswell Invoice_1047.pdf', '08/29/2006'), ('Cogswell Invoice_1048.pdf', '09/18/2006'), ('Cogswell Invoice_1051.pdf', '10/10/2006'), ('Cogswell Invoice_1052.pdf', '10/11/2006'), ('Cogswell Invoice_1053.pdf', '10/11/2006'), ('Cogswell Invoice_1053_10-16-06.PDF', '10/11/2006'), ('Cogswell Invoice_1054.pdf', '10/18/2006'), ('Cogswell Invoice_1055.pdf', '10/18/2006'), ('Cogswell Invoice_1056.pdf', '10/30/2006'), ('Cogswell Invoice_1057.pdf', '10/30/2006'), ('Cogswell Invoice_1058.pdf', '11/02/2006'), ('Cogswell Invoice_1059.pdf', '11/06/2006'), ('Cogswell Invoice_1060.pdf', '03/29/2007'), ('Cogswell Invoice_1061.pdf', '01/17/2007'), ('Cogswell Invoice_1063.pdf', '02/21/2007'), ('Cogswell Invoice_1065.pdf', '02/07/2007'), ('Cogswell Invoice_1066.pdf', '02/08/2007'), ('Cogswell Invoice_1067.pdf', '02/10/2007'), ('Cogswell Invoice_1068.pdf', '02/13/2007'), ('Cogswell Invoice_1069.pdf', '02/26/2007'), ('Cogswell Invoice_1070.pdf', '02/27/2007'), ('Cogswell Invoice_1071.pdf', '02/28/2007'), ('Cogswell Invoice_1072.pdf', '03/04/2007'), ('Cogswell Invoice_1073.pdf', '03/09/2007'), ('Cogswell Invoice_1074.pdf', '03/19/2007'), ('Cogswell Invoice_1075.pdf', '03/19/2007'), ('Cogswell Invoice_1076.pdf', '03/21/2007'), ('Cogswell Invoice_1077.pdf', '03/26/2007'), ('Cogswell Invoice_1078.pdf', '03/26/2007'), ('Cogswell Invoice_1079.pdf', '04/01/2007'), ('Cogswell Invoice_1080.pdf', '04/01/2007'), ('Cogswell Invoice_1081.pdf', '04/03/2007'), ('Cogswell Invoice_1082.pdf', '04/11/2007'), ('Cogswell Invoice_1083.pdf', '04/19/2007'), ('Cogswell Invoice_1084.pdf', '05/10/2007'), ('Cogswell Invoice_1085.pdf', '05/21/2007'), ('Cogswell Invoice_1086.pdf', '05/22/2007'), ('Cogswell Invoice_1087.pdf', '05/24/2007'), ('Cogswell Invoice_1088.pdf', '05/30/2007'), ('Cogswell Invoice_1089.pdf', '05/31/2007'), ('Cogswell Invoice_1090.pdf', '06/01/2007'), ('Cogswell Invoice_1091.pdf', '06/01/2007'), ('Cogswell Invoice_1092.pdf', '06/11/2007'), ('Cogswell Invoice_1093.pdf', '06/15/2007'), ('Cogswell Invoice_1094.pdf', '06/26/2007'), ('Cogswell Invoice_1095.pdf', '06/28/2007'), ('Cogswell Invoice_1096.pdf', '09/05/2007'), ('Cogswell Invoice_1097.pdf', '07/02/2007'), ('Cogswell Invoice_1098.pdf', '07/02/2007'), ('Cogswell Invoice_1099.pdf', '07/06/2007'), ('Cogswell Invoice_1100.pdf', '07/09/2007'), ('Cogswell Invoice_1101.pdf', '07/10/2007'), ('Cogswell Invoice_1102.pdf', '07/10/2007'), ('Cogswell Invoice_1103.pdf', '07/20/2007'), ('Cogswell Invoice_1105.pdf', '07/26/2007'), ('Cogswell Invoice_1106.pdf', '07/27/2007'), ('Cogswell Invoice_1107.pdf', '08/02/2007'), ('Cogswell Invoice_1108.pdf', '08/16/2007'), ('Cogswell Invoice_1109.pdf', '08/16/2007'), ('Cogswell Invoice_1110.pdf', '08/18/2007'), ('Cogswell Invoice_1111.pdf', '08/21/2007'), ('Cogswell Invoice_1111v2.pdf', '08/21/2007'), ('Cogswell Invoice_1112.pdf', '08/22/2007'), ('Cogswell Invoice_1114.pdf', '09/06/2007'), ('Cogswell Invoice_1115.pdf', '09/11/2007'), ('Cogswell Invoice_1117.pdf', '09/18/2007'), ('Cogswell Invoice_1117a.pdf', '09/27/2007'), ('Cogswell Invoice_1117b.pdf', '11/05/2007'), ('Cogswell Invoice_1118.pdf', '09/18/2007'), ('Cogswell Invoice_1119.pdf', '09/24/2007'), ('Cogswell Invoice_1119b.pdf', '10/30/2007'), ('Cogswell Invoice_1120.pdf', '10/09/2007'), ('Cogswell Invoice_1121.pdf', '10/09/2007'), ('Cogswell Invoice_1122.pdf', '10/16/2007'), ('Cogswell Invoice_1123.pdf', '10/23/2007'), ('Cogswell Invoice_1124.pdf', '10/23/2007'), ('Cogswell Invoice_1125a.pdf', '10/30/2007'), ('Cogswell Invoice_1126.pdf', '11/05/2007'), ('Cogswell Invoice_1127a.pdf', '11/07/2007'), ('Cogswell Invoice_1128.pdf', '11/07/2007'), ('Cogswell Invoice_1130.pdf', '11/27/2007'), ('Cogswell Invoice_1131.pdf', '12/17/2007'), ('Cogswell Invoice_1132.pdf', '12/17/2007'), ('Cogswell Invoice_1133.pdf', '01/08/2008'), ('Cogswell Invoice_1134a.pdf', '01/08/2008'), ('Cogswell Invoice_1135a.pdf', '01/15/2008'), ('Cogswell Invoice_1136.pdf', '01/17/2008'), ('Cogswell Invoice_1137.pdf', '01/17/2008'), ('Cogswell Invoice_1138.pdf', '04/24/2008'), ('Cogswell Invoice_1139a.pdf', '02/11/2008'), ('Cogswell Invoice_1140.pdf', '02/20/2008'), ('Cogswell Invoice_1141.pdf', '02/22/2008'), ('Cogswell Invoice_1142.pdf', '02/28/2008'), ('Cogswell Invoice_1143.pdf', '03/11/2008'), ('Cogswell Invoice_1144.pdf', '03/18/2008'), ('Cogswell Invoice_1145.pdf', '03/19/2008'), ('Cogswell Invoice_1146.pdf', '03/21/2008'), ('Cogswell Invoice_1146b.pdf', '03/21/2008'), ('Cogswell Invoice_1147.pdf', '04/30/2008'), ('Cogswell Invoice_1147a.pdf', '03/25/2008'), ('Cogswell Invoice_1147B.pdf', '04/30/2008'), ('Cogswell Invoice_1148.pdf', '03/28/2008'), ('Cogswell Invoice_1149.pdf', '03/30/2008'), ('Cogswell Invoice_1150.pdf', '03/30/2008'), ('Cogswell Invoice_1151.pdf', '03/30/2008'), ('Cogswell Invoice_1152.pdf', '04/01/2008'), ('Cogswell Invoice_1153.pdf', '04/01/2008'), ('Cogswell Invoice_1154.pdf', '04/01/2008'), ('Cogswell Invoice_1155.pdf', '04/01/2008'), ('Cogswell Invoice_1156.pdf', '04/16/2008'), ('Cogswell Invoice_1156_PAID.pdf', '04/01/2008'), ('Cogswell Invoice_1157.pdf', '04/21/2008'), ('Cogswell Invoice_1158.pdf', '04/22/2008'), ('Cogswell Invoice_1159.pdf', '04/25/2008'), ('Cogswell Invoice_1160.pdf', '05/07/2008'), ('Cogswell Invoice_1161.pdf', '05/14/2008'), ('Cogswell Invoice_1162.pdf', '05/15/2008'), ('Cogswell Invoice_1163.pdf', '05/22/2008'), ('Cogswell Invoice_1164.pdf', '05/27/2008'), ('Cogswell Invoice_1165.pdf', '05/28/2008'), ('Cogswell Invoice_1166.pdf', '05/28/2008'), ('Cogswell Invoice_1167.pdf', '05/30/2008'), ('Cogswell Invoice_1168.pdf', '06/05/2008'), ('Cogswell Invoice_1169.pdf', '07/29/2008'), ('Cogswell Invoice_1170.pdf', '06/12/2008'), ('Cogswell Invoice_1171.pdf', '06/17/2008'), ('Cogswell Invoice_1172.pdf', '06/17/2008'), ('Cogswell Invoice_1173.pdf', '08/21/2008'), ('Cogswell Invoice_1174.pdf', '07/14/2008'), ('Cogswell Invoice_1175.pdf', '07/14/2008'), ('Cogswell Invoice_1176.pdf', '07/14/2008'), ('Cogswell Invoice_1177.pdf', '07/21/2008'), ('Cogswell Invoice_1178.pdf', '07/21/2008'), ('Cogswell Invoice_1179.pdf', '07/21/2008'), ('Cogswell Invoice_1180.pdf', '07/22/2008'), ('Cogswell Invoice_1181.pdf', '07/23/2008'), ('Cogswell Invoice_1182.pdf', '07/24/2008'), ('Cogswell Invoice_1183.pdf', '07/27/2008'), ('Cogswell Invoice_1184.pdf', '07/29/2008'), ('Cogswell Invoice_1185.pdf', '07/29/2008'), ('Cogswell Invoice_1186ADD FOGGER!.pdf', '07/30/2008'), ('Cogswell Invoice_1187.pdf', '08/05/2008'), ('Cogswell Invoice_1188.pdf', '08/08/2008'), ('Cogswell Invoice_1190.pdf', '08/11/2008'), ('Cogswell Invoice_1191.pdf', '08/11/2008'), ('Cogswell Invoice_1192.pdf', '08/13/2008'), ('Cogswell Invoice_1193.pdf', '08/14/2008'), ('Cogswell Invoice_1194.pdf', '08/14/2008'), ('Cogswell Invoice_1195.pdf', '08/19/2008'), ('Cogswell Invoice_1197.pdf', '08/20/2008'), ('Cogswell Invoice_1198.pdf', '08/20/2008'), ('Cogswell Invoice_1199.pdf', '08/20/2008'), ('Cogswell Invoice_1200.pdf', '08/21/2008'), ('Cogswell Invoice_1201.pdf', '08/21/2008'), ('Cogswell Invoice_1202.pdf', '08/26/2008'), ('Cogswell Invoice_1203.pdf', '09/18/2008'), ('Cogswell Invoice_1204.pdf', '09/23/2008'), ('Cogswell Invoice_1205.pdf', '09/23/2008'), ('Cogswell Invoice_1206.pdf', '09/24/2008'), ('Cogswell Invoice_1207.pdf', '10/03/2008'), ('Cogswell Invoice_1208.pdf', '10/09/2008'), ('Cogswell Invoice_1209.pdf', '10/15/2008'), ('Cogswell Invoice_1210.pdf', '10/22/2008'), ('Cogswell Invoice_1211.pdf', '10/24/2008'), ('Cogswell Invoice_1212.pdf', '10/24/2008'), ('Cogswell Invoice_1213.pdf', '10/30/2008'), ('Cogswell Invoice_1214.pdf', '11/04/2008'), ('Cogswell Invoice_1215.pdf', '11/04/2008'), ('Cogswell Invoice_1216.pdf', '11/05/2008'), ('Cogswell Invoice_1217.pdf', '11/12/2008'), ('Cogswell Invoice_1218.pdf', '11/18/2008'), ('Cogswell Invoice_1219.pdf', '12/03/2008'), ('Cogswell Invoice_1220.pdf', '12/03/2008'), ('Cogswell Invoice_1221.pdf', '12/04/2008'), ('Cogswell Invoice_1222.pdf', '12/15/2008'), ('Cogswell Invoice_1223.pdf', '01/06/2009'), ('Cogswell invoice_1224.pdf', '01/14/2009'), ('Cogswell Invoice_1225.pdf', '01/14/2009'), ('Cogswell Invoice_1226.pdf', '01/20/2009'), ('Cogswell Invoice_1227.pdf', '01/20/2009'), ('Cogswell Invoice_1227B.pdf', '03/25/2009'), ('Cogswell Invoice_1228.pdf', '02/19/2009'), ('Cogswell Invoice_1229.pdf', '03/03/2009'), ('Cogswell Invoice_1230.pdf', '03/10/2009'), ('Cogswell Invoice_1231.pdf', '03/17/2009'), ('Cogswell Invoice_1232.pdf', '03/25/2009'), ('Cogswell Invoice_1233.pdf', '04/02/2009'), ('Cogswell Invoice_1234.pdf', '04/02/2009'), ('Cogswell Invoice_1235.pdf', '04/08/2009'), ('Cogswell Invoice_1236.pdf', '04/13/2009'), ('Cogswell Invoice_1237.pdf', '04/21/2009'), ('Cogswell Invoice_1238.pdf', '04/29/2009'), ('Cogswell Invoice_1239.pdf', '05/12/2009'), ('Cogswell Invoice_1240.pdf', '05/13/2009'), ('Cogswell Invoice_1241.pdf', '05/21/2009'), ('Cogswell Invoice_1242.pdf', '06/06/2009'), ('Cogswell Invoice_1243.pdf', '06/04/2009'), ('Cogswell Invoice_1244.pdf', '06/08/2009'), ('Cogswell Invoice_1244B.pdf', '06/08/2009'), ('Cogswell Invoice_1245.pdf', '06/10/2009'), ('Cogswell Invoice_1246.pdf', '06/10/2009'), ('Cogswell Invoice_1247.pdf', '06/12/2009'), ('Cogswell Invoice_1248.pdf', '06/17/2009'), ('Cogswell Invoice_1249.pdf', '07/01/2009'), ('Cogswell Invoice_1250.pdf', '07/08/2009'), ('Cogswell Invoice_1251.pdf', '07/10/2009'), ('Cogswell Invoice_1252.pdf', '07/13/2009'), ('Cogswell Invoice_1253.pdf', '07/14/2009'), ('Cogswell Invoice_1254.pdf', '07/20/2009'), ('Cogswell Invoice_1255.pdf', '06/24/2009'), ('Cogswell Invoice_1256.pdf', '07/24/2009'), ('Cogswell Invoice_1257.pdf', '07/27/2009'), ('Cogswell Invoice_1258.pdf', '07/28/2009'), ('Cogswell Invoice_1259.pdf', '07/30/2009'), ('Cogswell Invoice_1260.pdf', '08/04/2009'), ('Cogswell Invoice_1261.pdf', '08/06/2009'), ('Cogswell Invoice_1262.pdf', '08/06/2009'), ('Cogswell Invoice_1263.pdf', '08/06/2009'), ('Cogswell Invoice_1264.pdf', '08/10/2009'), ('Cogswell Invoice_1265.pdf', '08/12/2009'), ('Cogswell Invoice_1266.pdf', '08/13/2009'), ('Cogswell Invoice_1267.pdf', '08/21/2009'), ('Cogswell Invoice_1268.pdf', '08/27/2009'), ('Cogswell Invoice_1269.pdf', '08/28/2009'), ('Cogswell Invoice_1270.pdf', '09/01/2009'), ('Cogswell Invoice_1271.pdf', '09/01/2009'), ('Cogswell Invoice_1272.pdf', '09/04/2009'), ('Cogswell Invoice_1273.pdf', '09/04/2009'), ('Cogswell Invoice_1274.pdf', '10/01/2009'), ('Cogswell Invoice_1275.pdf', '10/01/2009'), ('Cogswell Invoice_1276.pdf', '10/12/2009'), ('Cogswell Invoice_1277.pdf', '10/16/2009'), ('Cogswell Invoice_1278.pdf', '10/16/2009'), ('Cogswell Invoice_1279.pdf', '10/16/2009'), ('Cogswell Invoice_1280.pdf', '09/10/2009'), ('Cogswell Invoice_1281.pdf', '10/16/2009'), ('Cogswell Invoice_1282.pdf', '10/17/2009'), ('Cogswell Invoice_1283.pdf', '10/21/2009'), ('Cogswell Invoice_1284.pdf', '10/23/2009'), ('Cogswell Invoice_1285.pdf', '10/23/2009'), ('Cogswell Invoice_1286.pdf', '10/27/2009'), ('Cogswell Invoice_1287.pdf', '11/16/2009'), ('Cogswell Invoice_1288.pdf', '12/04/2009'), ('Cogswell Invoice_1289.pdf', '12/09/2009'), ('Cogswell Invoice_1290.pdf', '12/11/2009'), ('Cogswell Invoice_1291.pdf', '12/23/2009'), ('Cogswell Invoice_1292.pdf', '01/04/2010'), ('Cogswell Invoice_1293.pdf', '01/05/2010'), ('Cogswell Invoice_1294.pdf', '01/07/2010'), ('Cogswell Invoice_1295.pdf', '01/13/2010'), ('Cogswell Invoice_1296.pdf', '01/20/2010'), ('Cogswell Invoice_1297.pdf', '01/29/2010'), ('Cogswell Invoice_1298.pdf', '02/11/2010'), ('Cogswell Invoice_1299.pdf', '02/17/2010'), ('Cogswell Invoice_1300.pdf', '02/17/2010'), ('Cogswell Invoice_1301.pdf', '02/19/2010'), ('Cogswell Invoice_1302.pdf', '03/16/2010'), ('Cogswell Invoice_1303.pdf', '03/16/2010'), ('Cogswell Invoice_1304.pdf', '03/30/2010'), ('Cogswell Invoice_1305.pdf', '04/05/2010'), ('Cogswell Invoice_1306.pdf', '04/06/2010'), ('Cogswell Invoice_1307.pdf', '04/08/2010'), ('Cogswell Invoice_1308.pdf', '04/15/2010'), ('Cogswell Invoice_1309.pdf', '04/19/2010'), ('Cogswell Invoice_1310.pdf', '04/19/2010'), ('Cogswell Invoice_1311.pdf', '04/20/2010'), ('Cogswell Invoice_1312.pdf', '04/20/2010'), ('Cogswell Invoice_1313.pdf', '05/03/2010'), ('Cogswell Invoice_1315.pdf', '05/14/2010'), ('Cogswell Invoice_1316.pdf', '05/25/2010'), ('Cogswell Invoice_1317.pdf', '05/25/2010'), ('Cogswell Invoice_1318.pdf', '05/26/2010'), ('Cogswell Invoice_1319.pdf', '05/27/2010'), ('Cogswell Invoice_1320.pdf', '06/23/2010'), ('Cogswell Invoice_1321.pdf', '07/06/2010'), ('Cogswell Invoice_1322.pdf', '07/07/2010'), ('Cogswell Invoice_1323.pdf', '08/31/2010'), ('Cogswell Invoice_1324.pdf', '07/15/2010'), ('Cogswell Invoice_1325.pdf', '07/15/2010'), ('Cogswell Invoice_1327.pdf', '07/29/2010'), ('Cogswell Invoice_1328.pdf', '07/29/2010'), ('Cogswell Invoice_1329.pdf', '07/29/2010'), ('Cogswell Invoice_1330.pdf', '07/29/2010'), ('Cogswell Invoice_1331.pdf', '08/06/2010'), ('Cogswell Invoice_1333.pdf', '08/13/2010'), ('Cogswell Invoice_1334.pdf', '08/13/2010'), ('Cogswell Invoice_1337.pdf', '08/18/2010'), ('Cogswell Invoice_1338.pdf', '08/24/2010'), ('Cogswell Invoice_1339.pdf', '08/24/2010'), ('Cogswell Invoice_1340.pdf', '08/24/2010'), ('Cogswell Invoice_1342.pdf', '08/29/2010'), ('Cogswell Invoice_1343.pdf', '08/30/2010'), ('Cogswell Invoice_1343_PAID.pdf', '08/30/2010'), ('Cogswell Invoice_1344.pdf', '09/04/2010'), ('Cogswell Invoice_1345.pdf', '09/09/2010'), ('Cogswell Invoice_1346.pdf', '09/09/2010'), ('Cogswell Invoice_1347.pdf', '09/09/2010'), ('Cogswell Invoice_1348.pdf', '09/10/2010'), ('Cogswell Invoice_1349.pdf', '09/21/2010'), ('Cogswell Invoice_1350.pdf', '09/23/2010'), ('Cogswell Invoice_1351.pdf', '10/01/2010'), ('Cogswell Invoice_1352.pdf', '10/01/2010'), ('Cogswell Invoice_1353.pdf', '10/14/2010'), ('Cogswell Invoice_1354.pdf', '10/14/2010'), ('Cogswell Invoice_1355.pdf', '10/15/2010'), ('Cogswell Invoice_1356.pdf', '10/25/2010'), ('Cogswell Invoice_1357.pdf', '10/25/2010'), ('Cogswell Invoice_1358.pdf', '10/26/2010'), ('Cogswell Invoice_1359.pdf', '10/26/2010'), ('Cogswell Invoice_1360.pdf', '10/28/2010'), ('Cogswell Invoice_1361.pdf', '11/02/2010'), ('Cogswell Invoice_1362.pdf', '11/05/2010'), ('Cogswell Invoice_1363.pdf', '11/05/2010'), ('Cogswell Invoice_1364.pdf', '11/05/2010'), ('Cogswell Invoice_1365.pdf', '11/08/2010'), ('Cogswell Invoice_1366.pdf', '11/19/2010'), ('Cogswell Invoice_1367.pdf', '11/19/2010'), ('Cogswell Invoice_1368.pdf', '11/19/2010'), ('Cogswell Invoice_1369.pdf', '11/29/2010'), ('Cogswell Invoice_1370.pdf', '11/30/2010'), ('Cogswell Invoice_1371.pdf', '12/01/2010'), ('Cogswell Invoice_1372.pdf', '12/07/2010'), ('Cogswell Invoice_1373.pdf', '12/10/2010'), ('Cogswell Invoice_1373B.pdf', '12/10/2010'), ('Cogswell Invoice_1374 full payment.pdf', '12/13/2010'), ('Cogswell Invoice_1374.pdf', '12/13/2010'), ('Cogswell Invoice_1375.pdf', '12/15/2010'), ('Cogswell Invoice_1376.pdf', '10/28/2010'), ('Cogswell Invoice_1377.pdf', '12/21/2010'), ('Cogswell Invoice_1378.pdf', '12/28/2010'), ('Cogswell invoice_1379.pdf', '01/19/2011'), ('Cogswell Invoice_1380.pdf', '01/19/2011'), ('Cogswell Invoice_1381.pdf', '01/21/2011'), ('Cogswell Invoice_1382.pdf', '01/25/2011'), ('Cogswell Invoice_1383.pdf', '01/31/2011'), ('Cogswell Invoice_1385.pdf', '02/18/2011'), ('Cogswell invoice_1386.pdf', '02/21/2011'), ('Cogswell Invoice_1387.pdf', '02/24/2011'), ('Cogswell Invoice_1388.pdf', '02/24/2011'), ('Cogswell Invoice_1389.pdf', '02/28/2011'), ('Cogswell Invoice_1390.pdf', '02/28/2011'), ('Cogswell Invoice_1391.pdf', '03/03/2011'), ('Cogswell Invoice_1392.pdf', '03/08/2011'), ('Cogswell Invoice_1393.pdf', '03/10/2011'), ('Cogswell Invoice_1394.pdf', '03/15/2011'), ('Cogswell Invoice_1395.pdf', '03/28/2011'), ('Cogswell Invoice_1396.pdf', '03/29/2011'), ('Cogswell Invoice_1397.pdf', '04/03/2011'), ('Cogswell Invoice_1398.pdf', '04/03/2011'), ('Cogswell Invoice_1399.pdf', '04/04/2011'), ('Cogswell Invoice_1400.pdf', '04/05/2011'), ('Cogswell Invoice_1401.pdf', '04/05/2011'), ('Cogswell Invoice_1402.pdf', '04/18/2011'), ('Cogswell Invoice_1403.pdf', '09/02/2011'), ('Cogswell Invoice_1404.pdf', '05/03/2011'), ('Cogswell Invoice_1405.pdf', '05/03/2011'), ('Cogswell Invoice_1406.pdf', '05/03/2011'), ('Cogswell Invoice_1407.pdf', '05/10/2011'), ('Cogswell Invoice_1408.pdf', '05/11/2011'), ('Cogswell Invoice_1409.pdf', '05/16/2011'), ('Cogswell Invoice_1410.pdf', '05/16/2011'), ('Cogswell Invoice_1411.pdf', '05/17/2011'), ('Cogswell Invoice_1412.pdf', '05/17/2011'), ('Cogswell Invoice_1413.pdf', '05/20/2011'), ('Cogswell Invoice_1414.pdf', '05/24/2011'), ('COgswell Invoice_1415.pdf', '06/13/2011'), ('Cogswell Invoice_1416.pdf', '06/13/2011'), ('Cogswell Invoice_1417.pdf', '06/14/2011'), ('Cogswell Invoice_1418.pdf', '06/14/2011'), ('Cogswell Invoice_1419.pdf', '06/16/2011'), ('Cogswell Invoice_1420.pdf', '06/17/2011'), ('Cogswell Invoice_1421.pdf', '06/30/2011'), ('Cogswell Invoice_1422.pdf', '06/30/2011'), ('Cogswell Invoice_1423.pdf', '06/27/2011'), ('Cogswell Invoice_1424.pdf', '06/28/2011'), ('Cogswell Invoice_1425.pdf', '06/29/2011'), ('Cogswell Invoice_1426-A.pdf', '07/01/2011'), ('Cogswell Invoice_1426-B.pdf', '07/01/2011'), ('Cogswell Invoice_1426.pdf', '07/01/2011'), ('Cogswell Invoice_1427.pdf', '07/01/2011'), ('Cogswell Invoice_1428.pdf', '07/28/2011'), ('Cogswell Invoice_1429.pdf', '08/02/2011'), ('Cogswell Invoice_1430.pdf', '08/02/2011'), ('Cogswell Invoice_1431.pdf', '08/10/2011'), ('Cogswell Invoice_1434.pdf', '09/02/2011'), ('Cogswell Invoice_1435.pdf', '09/05/2011'), ('Cogswell Invoice_1436.pdf', '09/15/2011'), ('Cogswell Invoice_1437.pdf', '09/15/2011'), ('Cogswell Invoice_1438.pdf', '09/19/2011'), ('Cogswell Invoice_1439.pdf', '09/22/2011'), ('Cogswell Invoice_1440.pdf', '09/25/2011'), ('Cogswell Invoice_1441.pdf', '10/14/2011'), ('Cogswell Invoice_1442.pdf', '10/14/2011'), ('Cogswell Invoice_1443.pdf', '10/17/2011'), ('Cogswell Invoice_1444.pdf', '10/17/2011'), ('Cogswell Invoice_1445.pdf', '10/17/2011'), ('Cogswell Invoice_1446.pdf', '10/21/2011'), ('Cogswell Invoice_1447.pdf', '10/21/2011'), ('Cogswell Invoice_1448.pdf', '10/28/2011'), ('Cogswell Invoice_1449.pdf', '10/28/2011'), ('Cogswell Invoice_1450.pdf', '11/02/2011'), ('Cogswell Invoice_1451.pdf', '11/02/2011'), ('Cogswell Invoice_1452.pdf', '11/02/2011'), ('Cogswell Invoice_1453.pdf', '11/03/2011'), ('Cogswell Invoice_1454.pdf', '11/10/2011'), ('Cogswell Invoice_1455.pdf', '12/01/2011'), ('Cogswell Invoice_1456.pdf', '12/15/2011'), ('Cogswell Invoice_1457.pdf', '12/15/2011'), ('Cogswell Invoice_1458.pdf', '12/19/2011'), ('Cogswell Invoice_1459.pdf', '12/19/2011'), ('Cogswell PAYMENT 2 Invoice_1309.pdf', '04/19/2010'), ('Galena Park Invoice for Fogger.pdf', '08/07/2006'), ('Galena Park Invoice for PO.pdf', '03/13/2006'), ('Invoice_1009_from_Cogswell_Creations.pdf', '08/15/2005'), ('Invoice_1018_from_Cogswell_Creations.pdf', '02/28/2006'), ('Invoice_1020_from_Cogswell_Creations.pdf', '03/13/2006'), ('westmoore High School Invoice.pdf', '05/05/2006')]\n"
     ]
    }
   ],
   "source": [
    "# Example usage\n",
    "folder_path = 'D:\\Cogswell\\Cogswell invoices 2006-2020 incomplete\\Cogswell invoices 2006-2020 incomplete'  # Replace with the path to your folder\n",
    "all_dates = extract_dates_from_folder(folder_path)\n",
    "print(all_dates)"
   ]
  },
  {
   "cell_type": "code",
   "execution_count": 10,
   "metadata": {},
   "outputs": [
    {
     "name": "stdout",
     "output_type": "stream",
     "text": [
      "                                             Filename        Date\n",
      "0                                 Balance Invoice.pdf  03/01/2006\n",
      "1    Balance Invoice_1018_from_Cogswell_Creations.pdf  02/28/2006\n",
      "2                  Cogswell  Balance Invoice_1035.pdf  07/11/2006\n",
      "3                  Cogswell  BALANCE Invoice_1075.pdf  03/19/2007\n",
      "4                  Cogswell  BALANCE Invoice_1408.pdf  05/11/2011\n",
      "..                                                ...         ...\n",
      "583                    Galena Park Invoice for PO.pdf  03/13/2006\n",
      "584          Invoice_1009_from_Cogswell_Creations.pdf  08/15/2005\n",
      "585          Invoice_1018_from_Cogswell_Creations.pdf  02/28/2006\n",
      "586          Invoice_1020_from_Cogswell_Creations.pdf  03/13/2006\n",
      "587                 westmoore High School Invoice.pdf  05/05/2006\n",
      "\n",
      "[588 rows x 2 columns]\n"
     ]
    },
    {
     "name": "stderr",
     "output_type": "stream",
     "text": [
      "C:\\Users\\Jesse\\AppData\\Local\\Temp\\ipykernel_15368\\550380999.py:1: DeprecationWarning: \n",
      "Pyarrow will become a required dependency of pandas in the next major release of pandas (pandas 3.0),\n",
      "(to allow more performant data types, such as the Arrow string type, and better interoperability with other libraries)\n",
      "but was not found to be installed on your system.\n",
      "If this would cause problems for you,\n",
      "please provide us feedback at https://github.com/pandas-dev/pandas/issues/54466\n",
      "        \n",
      "  import pandas as pd\n"
     ]
    }
   ],
   "source": [
    "import pandas as pd\n",
    "\n",
    "# Assuming all_dates is already populated with your data\n",
    "# all_dates = extract_dates_from_folder(folder_path)\n",
    "\n",
    "# Create a DataFrame from the all_dates list\n",
    "df = pd.DataFrame(all_dates, columns=['Filename', 'Date'])\n",
    "\n",
    "# Display the DataFrame\n",
    "print(df)\n",
    "\n",
    "# Optionally, you can save the DataFrame to a CSV file\n",
    "df.to_csv('extracted_dates.csv', index=False)\n"
   ]
  },
  {
   "cell_type": "code",
   "execution_count": 13,
   "metadata": {},
   "outputs": [
    {
     "name": "stdout",
     "output_type": "stream",
     "text": [
      "<class 'pandas.core.frame.DataFrame'>\n",
      "RangeIndex: 588 entries, 0 to 587\n",
      "Data columns (total 2 columns):\n",
      " #   Column    Non-Null Count  Dtype         \n",
      "---  ------    --------------  -----         \n",
      " 0   Filename  588 non-null    object        \n",
      " 1   Date      588 non-null    datetime64[ns]\n",
      "dtypes: datetime64[ns](1), object(1)\n",
      "memory usage: 9.3+ KB\n"
     ]
    },
    {
     "data": {
      "text/plain": [
       "(None,\n",
       "                                            Filename       Date\n",
       " 0                               Balance Invoice.pdf 2006-03-01\n",
       " 1  Balance Invoice_1018_from_Cogswell_Creations.pdf 2006-02-28\n",
       " 2                Cogswell  Balance Invoice_1035.pdf 2006-07-11\n",
       " 3                Cogswell  BALANCE Invoice_1075.pdf 2007-03-19\n",
       " 4                Cogswell  BALANCE Invoice_1408.pdf 2011-05-11)"
      ]
     },
     "execution_count": 13,
     "metadata": {},
     "output_type": "execute_result"
    }
   ],
   "source": [
    "df.info(), df.head()\n"
   ]
  },
  {
   "cell_type": "code",
   "execution_count": 15,
   "metadata": {},
   "outputs": [
    {
     "data": {
      "text/plain": [
       "count                              588\n",
       "mean     2009-01-02 18:02:26.938775552\n",
       "min                2005-08-15 00:00:00\n",
       "25%                2007-07-26 18:00:00\n",
       "50%                2008-10-09 00:00:00\n",
       "75%                2010-07-15 00:00:00\n",
       "max                2011-12-19 00:00:00\n",
       "Name: Date, dtype: object"
      ]
     },
     "execution_count": 15,
     "metadata": {},
     "output_type": "execute_result"
    }
   ],
   "source": [
    "# Convert 'Date' column to datetime format\n",
    "df['Date'] = pd.to_datetime(df['Date'], format='%m/%d/%Y', errors='coerce')\n",
    "\n",
    "# Drop rows with invalid dates (if any)\n",
    "df.dropna(subset=['Date'], inplace=True)\n",
    "\n",
    "# Analyzing the distribution of dates\n",
    "date_distribution = df['Date'].describe()\n",
    "date_distribution\n"
   ]
  },
  {
   "cell_type": "code",
   "execution_count": 21,
   "metadata": {},
   "outputs": [
    {
     "data": {
      "image/png": "[encoded data removed]",
      "text/plain": [
       "<Figure size 1000x600 with 1 Axes>"
      ]
     },
     "metadata": {},
     "output_type": "display_data"
    }
   ],
   "source": [
    "from matplotlib import pyplot as plt\n",
    "\n",
    "# Grouping data by month and counting the frequency\n",
    "monthly_aggregate = df['Date'].dt.month.value_counts().sort_values(ascending=False)\n",
    "\n",
    "# Creating a mapping for month names\n",
    "month_names = {1: 'January', 2: 'February', 3: 'March', 4: 'April', 5: 'May', 6: 'June', \n",
    "               7: 'July', 8: 'August', 9: 'September', 10: 'October', 11: 'November', 12: 'December'}\n",
    "monthly_aggregate.index = monthly_aggregate.index.map(month_names)\n",
    "\n",
    "# Plotting the frequency of invoices by month\n",
    "plt.figure(figsize=(10, 6))\n",
    "monthly_aggregate.plot(kind='bar')\n",
    "plt.title('Invoice Frequency by Month')\n",
    "plt.xlabel('Month')\n",
    "plt.ylabel('Number of Invoices')\n",
    "plt.xticks(rotation=45)\n",
    "plt.show()\n"
   ]
  },
  {
   "cell_type": "code",
   "execution_count": null,
   "metadata": {},
   "outputs": [],
   "source": []
  },
  {
   "cell_type": "code",
   "execution_count": null,
   "metadata": {},
   "outputs": [],
   "source": []
  }
 ],
 "metadata": {
  "kernelspec": {
   "display_name": "steve",
   "language": "python",
   "name": "python3"
  },
  "language_info": {
   "codemirror_mode": {
    "name": "ipython",
    "version": 3
   },
   "file_extension": ".py",
   "mimetype": "text/x-python",
   "name": "python",
   "nbconvert_exporter": "python",
   "pygments_lexer": "ipython3",
   "version": "3.11.0"
  }
 },
 "nbformat": 4,
 "nbformat_minor": 2
}
